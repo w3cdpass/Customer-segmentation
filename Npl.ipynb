{
 "cells": [
  {
   "cell_type": "markdown",
   "id": "fb517b54-46c5-4524-a918-5851a5edcb5c",
   "metadata": {},
   "source": [
    "# Count Vectorizer "
   ]
  },
  {
   "cell_type": "code",
   "execution_count": null,
   "id": "42216d7f-1b85-4522-90e0-76b12b680045",
   "metadata": {},
   "outputs": [],
   "source": []
  },
  {
   "cell_type": "markdown",
   "id": "c62c64c6-3237-4d81-a8d2-0f0c3f63272c",
   "metadata": {},
   "source": [
    "## CountVectorizer converts text into fixed-length vectors by counting how many times each word appears. The tokens are now stored as a bag-of-words."
   ]
  },
  {
   "cell_type": "markdown",
   "id": "a31253f4-e0c4-4c60-8f61-b6bfe1d18033",
   "metadata": {},
   "source": [
    "## Limitaion\n",
    "* Unable to identify words that are more or less significant for analysis\n",
    "* It will just consider words that are abundant in a corpus as the most statistically significant\n",
    "word\n",
    "* Does not take linguistic similarity between words into account"
   ]
  },
  {
   "cell_type": "markdown",
   "id": "dce86bf2-fd4f-4840-8109-9fa8084a1217",
   "metadata": {},
   "source": [
    "# with One document in a line  "
   ]
  },
  {
   "cell_type": "code",
   "execution_count": 112,
   "id": "541765a6-22a3-40c2-b806-e1acda5a5244",
   "metadata": {},
   "outputs": [],
   "source": [
    "from sklearn.feature_extraction.text import CountVectorizer"
   ]
  },
  {
   "cell_type": "code",
   "execution_count": 113,
   "id": "e8876628-ec85-4d4d-91fb-c7dc38c74004",
   "metadata": {},
   "outputs": [],
   "source": [
    "text = [\"The lecture is in noon, please come to the lecture on time.\"]"
   ]
  },
  {
   "cell_type": "code",
   "execution_count": 114,
   "id": "146a8d22-d44e-4efc-aed3-2749cfc34375",
   "metadata": {},
   "outputs": [],
   "source": [
    "countVectorizer = CountVectorizer()"
   ]
  },
  {
   "cell_type": "code",
   "execution_count": 115,
   "id": "4c3c5e73-1772-40c7-8f2e-b77f6cc2e29c",
   "metadata": {},
   "outputs": [],
   "source": [
    "X = countVectorizer.fit_transform(text)"
   ]
  },
  {
   "cell_type": "code",
   "execution_count": 116,
   "id": "41842321-e636-43d7-bce0-8c76aa1e81b4",
   "metadata": {},
   "outputs": [],
   "source": [
    "VacabularyDict = countVectorizer.vocabulary_"
   ]
  },
  {
   "cell_type": "code",
   "execution_count": 117,
   "id": "67a347a3-211d-4a66-aa75-60f60b1ad72a",
   "metadata": {},
   "outputs": [],
   "source": [
    "sortedVocab = dict(sorted(VacabularyDict.items()))"
   ]
  },
  {
   "cell_type": "code",
   "execution_count": 118,
   "id": "2310f2a1-6bc0-43e1-abfb-5837a7f6ee20",
   "metadata": {},
   "outputs": [
    {
     "name": "stdout",
     "output_type": "stream",
     "text": [
      "{'come': 0, 'in': 1, 'is': 2, 'lecture': 3, 'noon': 4, 'on': 5, 'please': 6, 'the': 7, 'time': 8, 'to': 9}\n"
     ]
    }
   ],
   "source": [
    "print(sortedVocab)"
   ]
  },
  {
   "cell_type": "code",
   "execution_count": 119,
   "id": "7c554294-ccaa-4864-adb8-ec65fd5bdd41",
   "metadata": {},
   "outputs": [
    {
     "data": {
      "text/plain": [
       "array([[1, 1, 1, 2, 1, 1, 1, 2, 1, 1]], dtype=int64)"
      ]
     },
     "execution_count": 119,
     "metadata": {},
     "output_type": "execute_result"
    }
   ],
   "source": [
    "X.toarray()"
   ]
  },
  {
   "cell_type": "code",
   "execution_count": 120,
   "id": "9abe1385-406b-440c-a2f5-99e9c0368d76",
   "metadata": {},
   "outputs": [
    {
     "data": {
      "text/html": [
       "<img src=\"https://testerstories.com/files/testing-ai-count-vectorizer.png\"/>"
      ],
      "text/plain": [
       "<IPython.core.display.Image object>"
      ]
     },
     "execution_count": 120,
     "metadata": {},
     "output_type": "execute_result"
    }
   ],
   "source": [
    "from IPython.display import Image\n",
    "img = \"https://testerstories.com/files/testing-ai-count-vectorizer.png\"\n",
    "Image(url=img)"
   ]
  },
  {
   "cell_type": "markdown",
   "id": "4d6860b7-7a51-461a-88d0-1f0b2a1cd879",
   "metadata": {},
   "source": [
    "# Now with many documents "
   ]
  },
  {
   "cell_type": "code",
   "execution_count": 124,
   "id": "f2441161-c1fe-4467-be41-9cf1c521311b",
   "metadata": {},
   "outputs": [],
   "source": [
    "<<<<<< USING BAG OF WORDS <<<<<< "
   ]
  },
  {
   "cell_type": "code",
   "execution_count": 125,
   "id": "4efb522c-7ede-4f32-8312-09494102fbf5",
   "metadata": {},
   "outputs": [],
   "source": [
    "from sklearn.feature_extraction.text import CountVectorizer"
   ]
  },
  {
   "cell_type": "code",
   "execution_count": 126,
   "id": "11fc0d34-db49-4acc-a250-2d5a6bb68f2b",
   "metadata": {},
   "outputs": [],
   "source": [
    "train_X = [\"This is good.\",\n",
    "        \"This is bad.\",\n",
    "        \"This is awesome.\",\n",
    "       ]"
   ]
  },
  {
   "cell_type": "code",
   "execution_count": 127,
   "id": "17c86986-c845-4e5f-a55b-d8c0d6704197",
   "metadata": {},
   "outputs": [],
   "source": [
    "vectorizer = CountVectorizer()"
   ]
  },
  {
   "cell_type": "code",
   "execution_count": 128,
   "id": "c6a601bf-7995-4c59-acf2-02ce7c8bbb9e",
   "metadata": {},
   "outputs": [],
   "source": [
    "X  = vectorizer.fit_transform(train_X)"
   ]
  },
  {
   "cell_type": "code",
   "execution_count": 129,
   "id": "717c7dcc-add1-4a2e-9cb8-e1256f80cd34",
   "metadata": {},
   "outputs": [],
   "source": [
    "VacabularyDict = vectorizer.vocabulary_"
   ]
  },
  {
   "cell_type": "code",
   "execution_count": 130,
   "id": "1a8e0b1f-b0b6-463c-96f4-46ddd3ab9b2e",
   "metadata": {},
   "outputs": [],
   "source": [
    "sortedVocab = dict(sorted(VacabularyDict.items()))"
   ]
  },
  {
   "cell_type": "code",
   "execution_count": 131,
   "id": "16e6b52b-3263-4c96-a99c-b5fb6a381d89",
   "metadata": {},
   "outputs": [
    {
     "name": "stdout",
     "output_type": "stream",
     "text": [
      "{'awesome': 0, 'bad': 1, 'good': 2, 'is': 3, 'this': 4}\n"
     ]
    }
   ],
   "source": [
    "print(sortedVocab)"
   ]
  },
  {
   "cell_type": "code",
   "execution_count": 132,
   "id": "9485be6e-06b4-46e7-bfa6-83649d185923",
   "metadata": {},
   "outputs": [
    {
     "data": {
      "text/plain": [
       "array([[0, 0, 1, 1, 1],\n",
       "       [0, 1, 0, 1, 1],\n",
       "       [1, 0, 0, 1, 1]], dtype=int64)"
      ]
     },
     "execution_count": 132,
     "metadata": {},
     "output_type": "execute_result"
    }
   ],
   "source": [
    "X.toarray()"
   ]
  },
  {
   "cell_type": "code",
   "execution_count": 133,
   "id": "f16c8c47-6aff-4616-a698-f2f59b359439",
   "metadata": {},
   "outputs": [
    {
     "data": {
      "text/html": [
       "<img src=\"https://miro.medium.com/v2/resize:fit:828/format:webp/1*RsrKmLuFVZcgZ3Z7sOzGKw.png\"/>"
      ],
      "text/plain": [
       "<IPython.core.display.Image object>"
      ]
     },
     "execution_count": 133,
     "metadata": {},
     "output_type": "execute_result"
    }
   ],
   "source": [
    "from IPython.display import Image\n",
    "img = \"https://miro.medium.com/v2/resize:fit:828/format:webp/1*RsrKmLuFVZcgZ3Z7sOzGKw.png\"\n",
    "Image(url=img)"
   ]
  },
  {
   "cell_type": "markdown",
   "id": "f56c5b92-4711-4b9e-80c6-a8f195a2a2b6",
   "metadata": {},
   "source": [
    "#  TfidVectorizer"
   ]
  },
  {
   "cell_type": "markdown",
   "id": "38f64608-0861-41a0-a176-2c8aeb910bc3",
   "metadata": {},
   "source": [
    "### Tfidf works better than CountVectorizer as it also takes the importance of a words into account account."
   ]
  },
  {
   "cell_type": "markdown",
   "id": "fddb57de-0d28-4d6a-beee-966afe16728d",
   "metadata": {},
   "source": [
    "### how to calculate Tf { term-frequency }  \n",
    "* formula :->  frequency / term \n",
    "* TF(t) = (Number of times term x appears in a document) / (Total number of terms in the document)."
   ]
  },
  {
   "cell_type": "markdown",
   "id": "cfcaa40e-9da5-42d7-9877-0c3af40f59e3",
   "metadata": {},
   "source": [
    "### IDF { Inverse Document Frequency }\n",
    "* IDF(t) = log_e(Total number of documents / Number of documents with term x in it)."
   ]
  },
  {
   "cell_type": "code",
   "execution_count": 111,
   "id": "bc953bae-f745-4673-bb9b-322e95d0c0a4",
   "metadata": {},
   "outputs": [
    {
     "data": {
      "text/html": [
       "<img src=\"https://miro.medium.com/v2/resize:fit:828/format:webp/1*ALj6IYuGFr2PObkT5o1-rQ.png\"/>"
      ],
      "text/plain": [
       "<IPython.core.display.Image object>"
      ]
     },
     "execution_count": 111,
     "metadata": {},
     "output_type": "execute_result"
    }
   ],
   "source": [
    "from IPython.display import Image\n",
    "img = \"https://miro.medium.com/v2/resize:fit:828/format:webp/1*ALj6IYuGFr2PObkT5o1-rQ.png\"\n",
    "Image(url=img)"
   ]
  },
  {
   "cell_type": "markdown",
   "id": "d33bc871-804e-42ad-a8df-1479885c3089",
   "metadata": {},
   "source": [
    "[Click here to more detailed Article on CountVectorizer vs TfidfVectorizer](https://medium.com/@shandeep92/countvectorizer-vs-tfidfvectorizer-cf62d0a54fa4)"
   ]
  },
  {
   "cell_type": "code",
   "execution_count": 136,
   "id": "ca5b9794-5f5b-43ab-9439-6f0acc56c721",
   "metadata": {},
   "outputs": [],
   "source": [
    "# https://medium.com/@shandeep92/countvectorizer-vs-tfidfvectorizer-cf62d0a54fa4"
   ]
  }
 ],
 "metadata": {
  "kernelspec": {
   "display_name": "Python 3 (ipykernel)",
   "language": "python",
   "name": "python3"
  },
  "language_info": {
   "codemirror_mode": {
    "name": "ipython",
    "version": 3
   },
   "file_extension": ".py",
   "mimetype": "text/x-python",
   "name": "python",
   "nbconvert_exporter": "python",
   "pygments_lexer": "ipython3",
   "version": "3.11.1"
  }
 },
 "nbformat": 4,
 "nbformat_minor": 5
}
